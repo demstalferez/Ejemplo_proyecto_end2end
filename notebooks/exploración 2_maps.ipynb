{
 "cells": [
  {
   "attachments": {},
   "cell_type": "markdown",
   "metadata": {},
   "source": [
    "<center><img src=\"../img/logo.png\" alt=\"logo empresa\" height=\"200\"> </center>\n",
    "<center><h1>Project:“AUTO MOTORS”</h1></center>\n",
    "<center><p> Analyze the impact of the pandemic in this company</p></center>"
   ]
  },
  {
   "cell_type": "code",
   "execution_count": 2,
   "metadata": {},
   "outputs": [],
   "source": [
    "import pandas as pd \n",
    "import seaborn as sns\n",
    "ventas = pd.read_csv(\"../data/ventas_updated.csv\")"
   ]
  },
  {
   "cell_type": "code",
   "execution_count": 3,
   "metadata": {},
   "outputs": [
    {
     "data": {
      "text/html": [
       "<div>\n",
       "<style scoped>\n",
       "    .dataframe tbody tr th:only-of-type {\n",
       "        vertical-align: middle;\n",
       "    }\n",
       "\n",
       "    .dataframe tbody tr th {\n",
       "        vertical-align: top;\n",
       "    }\n",
       "\n",
       "    .dataframe thead th {\n",
       "        text-align: right;\n",
       "    }\n",
       "</style>\n",
       "<table border=\"1\" class=\"dataframe\">\n",
       "  <thead>\n",
       "    <tr style=\"text-align: right;\">\n",
       "      <th></th>\n",
       "      <th>Unnamed: 0</th>\n",
       "      <th>IdCliente</th>\n",
       "      <th>NombreCliente</th>\n",
       "      <th>Fecha</th>\n",
       "      <th>Empleado</th>\n",
       "      <th>Referencia</th>\n",
       "      <th>Descripcion</th>\n",
       "      <th>CodigoFamilia</th>\n",
       "      <th>Familia</th>\n",
       "      <th>Cantidad</th>\n",
       "      <th>Ventas</th>\n",
       "      <th>Localidad</th>\n",
       "      <th>Sede</th>\n",
       "      <th>Area</th>\n",
       "    </tr>\n",
       "  </thead>\n",
       "  <tbody>\n",
       "    <tr>\n",
       "      <th>0</th>\n",
       "      <td>0</td>\n",
       "      <td>C1070956433</td>\n",
       "      <td>PINTO JOHN</td>\n",
       "      <td>2016-01-09</td>\n",
       "      <td>Tello German</td>\n",
       "      <td>LL-2R-0038</td>\n",
       "      <td>PILOT STREET 110/80-17</td>\n",
       "      <td>101.0</td>\n",
       "      <td>LLANTA</td>\n",
       "      <td>1</td>\n",
       "      <td>27.228146</td>\n",
       "      <td>Puente aranda</td>\n",
       "      <td>Calle 13</td>\n",
       "      <td>35.0</td>\n",
       "    </tr>\n",
       "    <tr>\n",
       "      <th>1</th>\n",
       "      <td>1</td>\n",
       "      <td>C1032372566</td>\n",
       "      <td>CESAR CRUZ</td>\n",
       "      <td>2016-01-09</td>\n",
       "      <td>Javier Garay</td>\n",
       "      <td>LL-TCA-0133</td>\n",
       "      <td>TOURING 175/70R13</td>\n",
       "      <td>101.0</td>\n",
       "      <td>LLANTA</td>\n",
       "      <td>2</td>\n",
       "      <td>38.119404</td>\n",
       "      <td>Suba</td>\n",
       "      <td>Suba</td>\n",
       "      <td>32.0</td>\n",
       "    </tr>\n",
       "    <tr>\n",
       "      <th>2</th>\n",
       "      <td>2</td>\n",
       "      <td>C2865810</td>\n",
       "      <td>PINEDA JAIME</td>\n",
       "      <td>2016-01-09</td>\n",
       "      <td>Marcos Luna</td>\n",
       "      <td>LL-TCA-0019</td>\n",
       "      <td>ENERGY XM2 185/65R14</td>\n",
       "      <td>101.0</td>\n",
       "      <td>LLANTA</td>\n",
       "      <td>1</td>\n",
       "      <td>40.659027</td>\n",
       "      <td>Usaquen</td>\n",
       "      <td>Santa ana</td>\n",
       "      <td>33.0</td>\n",
       "    </tr>\n",
       "    <tr>\n",
       "      <th>3</th>\n",
       "      <td>3</td>\n",
       "      <td>C11210285</td>\n",
       "      <td>VILLALBA RODRIGUEZ FABIO</td>\n",
       "      <td>2016-01-09</td>\n",
       "      <td>Tello German</td>\n",
       "      <td>LL-TCA-0009</td>\n",
       "      <td>ENERGY XM2 165/65R13</td>\n",
       "      <td>101.0</td>\n",
       "      <td>LLANTA</td>\n",
       "      <td>2</td>\n",
       "      <td>55.182530</td>\n",
       "      <td>Puente aranda</td>\n",
       "      <td>Calle 13</td>\n",
       "      <td>35.0</td>\n",
       "    </tr>\n",
       "    <tr>\n",
       "      <th>4</th>\n",
       "      <td>4</td>\n",
       "      <td>C80755314</td>\n",
       "      <td>MOLINA RONALD</td>\n",
       "      <td>2016-01-09</td>\n",
       "      <td>Javier Garay</td>\n",
       "      <td>LL-TCA-0132</td>\n",
       "      <td>NO UTILIZAR</td>\n",
       "      <td>101.0</td>\n",
       "      <td>LLANTA</td>\n",
       "      <td>4</td>\n",
       "      <td>76.239018</td>\n",
       "      <td>Suba</td>\n",
       "      <td>Suba</td>\n",
       "      <td>32.0</td>\n",
       "    </tr>\n",
       "  </tbody>\n",
       "</table>\n",
       "</div>"
      ],
      "text/plain": [
       "   Unnamed: 0    IdCliente             NombreCliente       Fecha  \\\n",
       "0           0  C1070956433                PINTO JOHN  2016-01-09   \n",
       "1           1  C1032372566                CESAR CRUZ  2016-01-09   \n",
       "2           2     C2865810              PINEDA JAIME  2016-01-09   \n",
       "3           3    C11210285  VILLALBA RODRIGUEZ FABIO  2016-01-09   \n",
       "4           4    C80755314             MOLINA RONALD  2016-01-09   \n",
       "\n",
       "       Empleado   Referencia             Descripcion  CodigoFamilia Familia  \\\n",
       "0  Tello German   LL-2R-0038  PILOT STREET 110/80-17          101.0  LLANTA   \n",
       "1  Javier Garay  LL-TCA-0133       TOURING 175/70R13          101.0  LLANTA   \n",
       "2   Marcos Luna  LL-TCA-0019    ENERGY XM2 185/65R14          101.0  LLANTA   \n",
       "3  Tello German  LL-TCA-0009    ENERGY XM2 165/65R13          101.0  LLANTA   \n",
       "4  Javier Garay  LL-TCA-0132             NO UTILIZAR          101.0  LLANTA   \n",
       "\n",
       "  Cantidad     Ventas      Localidad       Sede  Area  \n",
       "0        1  27.228146  Puente aranda   Calle 13  35.0  \n",
       "1        2  38.119404           Suba       Suba  32.0  \n",
       "2        1  40.659027        Usaquen  Santa ana  33.0  \n",
       "3        2  55.182530  Puente aranda   Calle 13  35.0  \n",
       "4        4  76.239018           Suba       Suba  32.0  "
      ]
     },
     "execution_count": 3,
     "metadata": {},
     "output_type": "execute_result"
    }
   ],
   "source": [
    "ventas.head()"
   ]
  },
  {
   "cell_type": "code",
   "execution_count": 4,
   "metadata": {},
   "outputs": [],
   "source": [
    "#eliminando Unnamed:0\n",
    "ventas.drop(\"Unnamed: 0\", axis=1, inplace=True)"
   ]
  },
  {
   "attachments": {},
   "cell_type": "markdown",
   "metadata": {},
   "source": [
    "<center><h1>4. MAPS(EDA)</h1></center>\n"
   ]
  },
  {
   "cell_type": "code",
   "execution_count": 5,
   "metadata": {},
   "outputs": [],
   "source": [
    "import matplotlib.pyplot as plt\n",
    "import numpy as np\n",
    "import plotly.graph_objects as go\n",
    "import folium\n",
    "from folium.plugins import MarkerCluster\n",
    "from folium.plugins import MousePosition\n",
    "from folium.features import DivIcon\n",
    "from geopy.geocoders import Nominatim"
   ]
  },
  {
   "cell_type": "code",
   "execution_count": 6,
   "metadata": {},
   "outputs": [
    {
     "data": {
      "text/plain": [
       "Engativa          59170\n",
       "Suba              16653\n",
       "Barrios unidos    11996\n",
       "Puente aranda      9904\n",
       "Usaquen            8308\n",
       "Bogota             2763\n",
       "Name: Localidad, dtype: int64"
      ]
     },
     "execution_count": 6,
     "metadata": {},
     "output_type": "execute_result"
    }
   ],
   "source": [
    "#Conociendo el volumen de localidades\n",
    "ventas.Localidad.value_counts()"
   ]
  },
  {
   "cell_type": "code",
   "execution_count": 7,
   "metadata": {},
   "outputs": [
    {
     "data": {
      "text/plain": [
       "Calle 80           48753\n",
       "Suba               16653\n",
       "Av Chile           11996\n",
       "Ventas externas    10417\n",
       "Calle 13            9904\n",
       "Santa ana           8308\n",
       "Grandes flotas      2763\n",
       "Name: Sede, dtype: int64"
      ]
     },
     "execution_count": 7,
     "metadata": {},
     "output_type": "execute_result"
    }
   ],
   "source": [
    "#Conociendo la variedad de Sedes\n",
    "ventas.Sede.value_counts()"
   ]
  },
  {
   "attachments": {},
   "cell_type": "markdown",
   "metadata": {},
   "source": [
    "Añadiendo lat and log al df como columnas df[“latitude”], df[“longitude”] en base a la columna Localidad"
   ]
  },
  {
   "cell_type": "code",
   "execution_count": 8,
   "metadata": {},
   "outputs": [],
   "source": [
    "#Para asegurarnos que es Colombia lo que va a leer y evitar la coincidencia con otros puntos del mundo que se llamen igual, \n",
    "#Cambiamos los nombres de Localidad a su nombre en Colombia :\n",
    "ventas['Localidad'].replace({'Barrios unidos': 'Av Chile, Barrios unidos, Bogotá', \n",
    "                                    'Puente aranda': 'Calle 13, Puente Aranda, Bogotá',\n",
    "                                    'Engativa': 'Calle 80, Engativa, Bogotá',\n",
    "                                    'Bogota': 'Grandes flotas, Bogota', \n",
    "                                    'Usaquen': 'Santa ana, Usaquen, Bogotá',\n",
    "                                    'Suba': 'Suba, Suba, Bogotá',\n",
    "                                      }, inplace=True)"
   ]
  },
  {
   "cell_type": "code",
   "execution_count": 9,
   "metadata": {},
   "outputs": [
    {
     "data": {
      "text/plain": [
       "array(['Calle 13, Puente Aranda, Bogotá', 'Suba, Suba, Bogotá',\n",
       "       'Santa ana, Usaquen, Bogotá', 'Calle 80, Engativa, Bogotá',\n",
       "       'Av Chile, Barrios unidos, Bogotá', 'Grandes flotas, Bogota'],\n",
       "      dtype=object)"
      ]
     },
     "execution_count": 9,
     "metadata": {},
     "output_type": "execute_result"
    }
   ],
   "source": [
    "#creando una lista con los nombres de las Localidades\n",
    "localidades = ventas[\"Localidad\"].unique()\n",
    "localidades"
   ]
  },
  {
   "cell_type": "code",
   "execution_count": 10,
   "metadata": {},
   "outputs": [
    {
     "data": {
      "text/html": [
       "<div>\n",
       "<style scoped>\n",
       "    .dataframe tbody tr th:only-of-type {\n",
       "        vertical-align: middle;\n",
       "    }\n",
       "\n",
       "    .dataframe tbody tr th {\n",
       "        vertical-align: top;\n",
       "    }\n",
       "\n",
       "    .dataframe thead th {\n",
       "        text-align: right;\n",
       "    }\n",
       "</style>\n",
       "<table border=\"1\" class=\"dataframe\">\n",
       "  <thead>\n",
       "    <tr style=\"text-align: right;\">\n",
       "      <th></th>\n",
       "      <th>IdCliente</th>\n",
       "      <th>NombreCliente</th>\n",
       "      <th>Fecha</th>\n",
       "      <th>Empleado</th>\n",
       "      <th>Referencia</th>\n",
       "      <th>Descripcion</th>\n",
       "      <th>CodigoFamilia</th>\n",
       "      <th>Familia</th>\n",
       "      <th>Cantidad</th>\n",
       "      <th>Ventas</th>\n",
       "      <th>Localidad</th>\n",
       "      <th>Sede</th>\n",
       "      <th>Area</th>\n",
       "    </tr>\n",
       "  </thead>\n",
       "  <tbody>\n",
       "    <tr>\n",
       "      <th>0</th>\n",
       "      <td>C1070956433</td>\n",
       "      <td>PINTO JOHN</td>\n",
       "      <td>2016-01-09</td>\n",
       "      <td>Tello German</td>\n",
       "      <td>LL-2R-0038</td>\n",
       "      <td>PILOT STREET 110/80-17</td>\n",
       "      <td>101.0</td>\n",
       "      <td>LLANTA</td>\n",
       "      <td>1</td>\n",
       "      <td>27.228146</td>\n",
       "      <td>Calle 13, Puente Aranda, Bogotá</td>\n",
       "      <td>Calle 13</td>\n",
       "      <td>35.0</td>\n",
       "    </tr>\n",
       "    <tr>\n",
       "      <th>1</th>\n",
       "      <td>C1032372566</td>\n",
       "      <td>CESAR CRUZ</td>\n",
       "      <td>2016-01-09</td>\n",
       "      <td>Javier Garay</td>\n",
       "      <td>LL-TCA-0133</td>\n",
       "      <td>TOURING 175/70R13</td>\n",
       "      <td>101.0</td>\n",
       "      <td>LLANTA</td>\n",
       "      <td>2</td>\n",
       "      <td>38.119404</td>\n",
       "      <td>Suba, Suba, Bogotá</td>\n",
       "      <td>Suba</td>\n",
       "      <td>32.0</td>\n",
       "    </tr>\n",
       "    <tr>\n",
       "      <th>2</th>\n",
       "      <td>C2865810</td>\n",
       "      <td>PINEDA JAIME</td>\n",
       "      <td>2016-01-09</td>\n",
       "      <td>Marcos Luna</td>\n",
       "      <td>LL-TCA-0019</td>\n",
       "      <td>ENERGY XM2 185/65R14</td>\n",
       "      <td>101.0</td>\n",
       "      <td>LLANTA</td>\n",
       "      <td>1</td>\n",
       "      <td>40.659027</td>\n",
       "      <td>Santa ana, Usaquen, Bogotá</td>\n",
       "      <td>Santa ana</td>\n",
       "      <td>33.0</td>\n",
       "    </tr>\n",
       "    <tr>\n",
       "      <th>3</th>\n",
       "      <td>C11210285</td>\n",
       "      <td>VILLALBA RODRIGUEZ FABIO</td>\n",
       "      <td>2016-01-09</td>\n",
       "      <td>Tello German</td>\n",
       "      <td>LL-TCA-0009</td>\n",
       "      <td>ENERGY XM2 165/65R13</td>\n",
       "      <td>101.0</td>\n",
       "      <td>LLANTA</td>\n",
       "      <td>2</td>\n",
       "      <td>55.182530</td>\n",
       "      <td>Calle 13, Puente Aranda, Bogotá</td>\n",
       "      <td>Calle 13</td>\n",
       "      <td>35.0</td>\n",
       "    </tr>\n",
       "    <tr>\n",
       "      <th>4</th>\n",
       "      <td>C80755314</td>\n",
       "      <td>MOLINA RONALD</td>\n",
       "      <td>2016-01-09</td>\n",
       "      <td>Javier Garay</td>\n",
       "      <td>LL-TCA-0132</td>\n",
       "      <td>NO UTILIZAR</td>\n",
       "      <td>101.0</td>\n",
       "      <td>LLANTA</td>\n",
       "      <td>4</td>\n",
       "      <td>76.239018</td>\n",
       "      <td>Suba, Suba, Bogotá</td>\n",
       "      <td>Suba</td>\n",
       "      <td>32.0</td>\n",
       "    </tr>\n",
       "  </tbody>\n",
       "</table>\n",
       "</div>"
      ],
      "text/plain": [
       "     IdCliente             NombreCliente       Fecha      Empleado  \\\n",
       "0  C1070956433                PINTO JOHN  2016-01-09  Tello German   \n",
       "1  C1032372566                CESAR CRUZ  2016-01-09  Javier Garay   \n",
       "2     C2865810              PINEDA JAIME  2016-01-09   Marcos Luna   \n",
       "3    C11210285  VILLALBA RODRIGUEZ FABIO  2016-01-09  Tello German   \n",
       "4    C80755314             MOLINA RONALD  2016-01-09  Javier Garay   \n",
       "\n",
       "    Referencia             Descripcion  CodigoFamilia Familia Cantidad  \\\n",
       "0   LL-2R-0038  PILOT STREET 110/80-17          101.0  LLANTA        1   \n",
       "1  LL-TCA-0133       TOURING 175/70R13          101.0  LLANTA        2   \n",
       "2  LL-TCA-0019    ENERGY XM2 185/65R14          101.0  LLANTA        1   \n",
       "3  LL-TCA-0009    ENERGY XM2 165/65R13          101.0  LLANTA        2   \n",
       "4  LL-TCA-0132             NO UTILIZAR          101.0  LLANTA        4   \n",
       "\n",
       "      Ventas                        Localidad       Sede  Area  \n",
       "0  27.228146  Calle 13, Puente Aranda, Bogotá   Calle 13  35.0  \n",
       "1  38.119404               Suba, Suba, Bogotá       Suba  32.0  \n",
       "2  40.659027       Santa ana, Usaquen, Bogotá  Santa ana  33.0  \n",
       "3  55.182530  Calle 13, Puente Aranda, Bogotá   Calle 13  35.0  \n",
       "4  76.239018               Suba, Suba, Bogotá       Suba  32.0  "
      ]
     },
     "execution_count": 10,
     "metadata": {},
     "output_type": "execute_result"
    }
   ],
   "source": [
    "ventas.head()"
   ]
  },
  {
   "cell_type": "code",
   "execution_count": 11,
   "metadata": {},
   "outputs": [],
   "source": [
    "#creando un dataframe de Localidades\n",
    "df_localidades = pd.DataFrame(localidades, columns=[\"direccion\"])"
   ]
  },
  {
   "cell_type": "code",
   "execution_count": 12,
   "metadata": {},
   "outputs": [
    {
     "data": {
      "text/html": [
       "<div>\n",
       "<style scoped>\n",
       "    .dataframe tbody tr th:only-of-type {\n",
       "        vertical-align: middle;\n",
       "    }\n",
       "\n",
       "    .dataframe tbody tr th {\n",
       "        vertical-align: top;\n",
       "    }\n",
       "\n",
       "    .dataframe thead th {\n",
       "        text-align: right;\n",
       "    }\n",
       "</style>\n",
       "<table border=\"1\" class=\"dataframe\">\n",
       "  <thead>\n",
       "    <tr style=\"text-align: right;\">\n",
       "      <th></th>\n",
       "      <th>direccion</th>\n",
       "    </tr>\n",
       "  </thead>\n",
       "  <tbody>\n",
       "    <tr>\n",
       "      <th>0</th>\n",
       "      <td>Calle 13, Puente Aranda, Bogotá</td>\n",
       "    </tr>\n",
       "    <tr>\n",
       "      <th>1</th>\n",
       "      <td>Suba, Suba, Bogotá</td>\n",
       "    </tr>\n",
       "    <tr>\n",
       "      <th>2</th>\n",
       "      <td>Santa ana, Usaquen, Bogotá</td>\n",
       "    </tr>\n",
       "    <tr>\n",
       "      <th>3</th>\n",
       "      <td>Calle 80, Engativa, Bogotá</td>\n",
       "    </tr>\n",
       "    <tr>\n",
       "      <th>4</th>\n",
       "      <td>Av Chile, Barrios unidos, Bogotá</td>\n",
       "    </tr>\n",
       "    <tr>\n",
       "      <th>5</th>\n",
       "      <td>Grandes flotas, Bogota</td>\n",
       "    </tr>\n",
       "  </tbody>\n",
       "</table>\n",
       "</div>"
      ],
      "text/plain": [
       "                          direccion\n",
       "0   Calle 13, Puente Aranda, Bogotá\n",
       "1                Suba, Suba, Bogotá\n",
       "2        Santa ana, Usaquen, Bogotá\n",
       "3        Calle 80, Engativa, Bogotá\n",
       "4  Av Chile, Barrios unidos, Bogotá\n",
       "5            Grandes flotas, Bogota"
      ]
     },
     "execution_count": 12,
     "metadata": {},
     "output_type": "execute_result"
    }
   ],
   "source": [
    "df_localidades"
   ]
  },
  {
   "cell_type": "code",
   "execution_count": 13,
   "metadata": {},
   "outputs": [],
   "source": [
    "#Observamos un problema en Grandes flotas, Bogotá, que no está definido, vamos a reasignarlo con \"Grandes flotas, Bogotá\"\n",
    "df_localidades[\"direccion\"].replace({\"Grandes flotas, Bogota\": \" Grandes flotas, Bogotá\"}, inplace=True)"
   ]
  },
  {
   "cell_type": "code",
   "execution_count": 14,
   "metadata": {},
   "outputs": [
    {
     "data": {
      "text/html": [
       "<div>\n",
       "<style scoped>\n",
       "    .dataframe tbody tr th:only-of-type {\n",
       "        vertical-align: middle;\n",
       "    }\n",
       "\n",
       "    .dataframe tbody tr th {\n",
       "        vertical-align: top;\n",
       "    }\n",
       "\n",
       "    .dataframe thead th {\n",
       "        text-align: right;\n",
       "    }\n",
       "</style>\n",
       "<table border=\"1\" class=\"dataframe\">\n",
       "  <thead>\n",
       "    <tr style=\"text-align: right;\">\n",
       "      <th></th>\n",
       "      <th>direccion</th>\n",
       "      <th>location</th>\n",
       "      <th>latitude</th>\n",
       "      <th>longitude</th>\n",
       "    </tr>\n",
       "  </thead>\n",
       "  <tbody>\n",
       "    <tr>\n",
       "      <th>0</th>\n",
       "      <td>Calle 13, Puente Aranda, Bogotá</td>\n",
       "      <td>(Calle 13, Avenida Carrera 68, La Pradera, UPZ...</td>\n",
       "      <td>4.638626</td>\n",
       "      <td>-74.116938</td>\n",
       "    </tr>\n",
       "    <tr>\n",
       "      <th>1</th>\n",
       "      <td>Suba, Suba, Bogotá</td>\n",
       "      <td>(Templo Mormón de Bogotá, UPZ El Prado, Locali...</td>\n",
       "      <td>4.708162</td>\n",
       "      <td>-74.056220</td>\n",
       "    </tr>\n",
       "    <tr>\n",
       "      <th>2</th>\n",
       "      <td>Santa ana, Usaquen, Bogotá</td>\n",
       "      <td>(Santa Ana, UPZs Localidad Usaquén, Localidad ...</td>\n",
       "      <td>4.687589</td>\n",
       "      <td>-74.033244</td>\n",
       "    </tr>\n",
       "    <tr>\n",
       "      <th>3</th>\n",
       "      <td>Calle 80, Engativa, Bogotá</td>\n",
       "      <td>(Calle 80, UPZ Bolivia, Siberia, Bogotá, Cota,...</td>\n",
       "      <td>4.728491</td>\n",
       "      <td>-74.126597</td>\n",
       "    </tr>\n",
       "    <tr>\n",
       "      <th>4</th>\n",
       "      <td>Av Chile, Barrios unidos, Bogotá</td>\n",
       "      <td>(Avenida Chile, Calle 71A, Siete de Agosto, UP...</td>\n",
       "      <td>4.666143</td>\n",
       "      <td>-74.074637</td>\n",
       "    </tr>\n",
       "    <tr>\n",
       "      <th>5</th>\n",
       "      <td>Grandes flotas, Bogotá</td>\n",
       "      <td>None</td>\n",
       "      <td>NaN</td>\n",
       "      <td>NaN</td>\n",
       "    </tr>\n",
       "  </tbody>\n",
       "</table>\n",
       "</div>"
      ],
      "text/plain": [
       "                          direccion  \\\n",
       "0   Calle 13, Puente Aranda, Bogotá   \n",
       "1                Suba, Suba, Bogotá   \n",
       "2        Santa ana, Usaquen, Bogotá   \n",
       "3        Calle 80, Engativa, Bogotá   \n",
       "4  Av Chile, Barrios unidos, Bogotá   \n",
       "5            Grandes flotas, Bogotá   \n",
       "\n",
       "                                            location  latitude  longitude  \n",
       "0  (Calle 13, Avenida Carrera 68, La Pradera, UPZ...  4.638626 -74.116938  \n",
       "1  (Templo Mormón de Bogotá, UPZ El Prado, Locali...  4.708162 -74.056220  \n",
       "2  (Santa Ana, UPZs Localidad Usaquén, Localidad ...  4.687589 -74.033244  \n",
       "3  (Calle 80, UPZ Bolivia, Siberia, Bogotá, Cota,...  4.728491 -74.126597  \n",
       "4  (Avenida Chile, Calle 71A, Siete de Agosto, UP...  4.666143 -74.074637  \n",
       "5                                               None       NaN        NaN  "
      ]
     },
     "execution_count": 14,
     "metadata": {},
     "output_type": "execute_result"
    }
   ],
   "source": [
    "#Añadiendo según la columna localidad , su latitud, longitud en dos nuevas columnas \n",
    "geolocator = Nominatim (user_agent='maia')\n",
    "df_localidades['location'] = df_localidades['direccion'].apply(geolocator.geocode)\n",
    "df_localidades['latitude'] = df_localidades.location.apply(lambda loc: loc.point[0] if loc else None)\n",
    "df_localidades['longitude'] = df_localidades.location.apply(lambda loc: loc.point[1] if loc else None)\n",
    "#Observando el nuevo df\n",
    "df_localidades"
   ]
  },
  {
   "cell_type": "code",
   "execution_count": 15,
   "metadata": {},
   "outputs": [],
   "source": [
    "#Encontramos que grandes flotas puede ser por coincidencia una red de estaciones que venden un servicio, esto puede ser de nuestro interés, \n",
    "#ya que son mas de 2000, pero al dividirlo por el volumen de ventas que aportan, no tendría sentido.\n",
    "#Vamos a centralizarlo en su sede a falta de nuevos datos, se debería preguntar en este caso al cliente si el punto que define es\n",
    "#el origen de la flota que hace la entrega o si es la red de estaciones al final del servicio.\n",
    "#Contrastar si esto fuera real, al no serlo sigo con el ejemplo del ejercicio\n",
    "df_localidades[\"direccion\"] = df_localidades[\"direccion\"].replace({\" Grandes flotas, Bogotá\": \"Carrera 7 75 51, Bogotá\"})\n",
    "df_localidades\n",
    "\n",
    "df_localidades['location'] = df_localidades['direccion'].apply(geolocator.geocode)\n",
    "df_localidades['latitude'] = df_localidades.location.apply(lambda loc: loc.point[0] if loc else None)\n",
    "df_localidades['longitude'] = df_localidades.location.apply(lambda loc: loc.point[1] if loc else None)"
   ]
  },
  {
   "cell_type": "code",
   "execution_count": 17,
   "metadata": {},
   "outputs": [],
   "source": [
    "df_localidades\n",
    "#guardamos\n",
    "df_localidades.to_csv(\"../data/localidades.csv\")"
   ]
  },
  {
   "attachments": {},
   "cell_type": "markdown",
   "metadata": {},
   "source": [
    "<center><h3> Folium</h3></center>\n"
   ]
  },
  {
   "cell_type": "code",
   "execution_count": 18,
   "metadata": {},
   "outputs": [],
   "source": [
    "#Ahora porfin podemos graficar nuestro primer mapa\n",
    "market_clust = folium.Map([4.666667, -74.083333],\n",
    "                        tiles='cartodbpositron',\n",
    "                        size = (200,200),\n",
    "                        for_ratios=2,\n",
    "                        control_scale = True,\n",
    "                        detect_retina=True,\n",
    "                        zoom_start=12)                         \n",
    "marker_cluster = MarkerCluster(name=\"Localidades\").add_to(market_clust)\n",
    "for each in df_localidades.iterrows():\n",
    "        folium.Marker(location=[each[1]['latitude'], each[1]['longitude']],\n",
    "            popup = each[1]['direccion'],\n",
    "            icon = folium.Icon(color='black')\n",
    "                    ).add_to(marker_cluster)\n",
    "folium.LayerControl().add_to(market_clust)\n",
    "market_clust\n",
    "#lo guardamos en html \n",
    "market_clust.save('mapa1.html')"
   ]
  },
  {
   "attachments": {},
   "cell_type": "markdown",
   "metadata": {},
   "source": [
    "<center><h3> Plotly</h3></center>\n"
   ]
  },
  {
   "cell_type": "code",
   "execution_count": 19,
   "metadata": {},
   "outputs": [
    {
     "data": {
      "application/vnd.plotly.v1+json": {
       "config": {
        "plotlyServerURL": "https://plot.ly"
       },
       "data": [
        {
         "hovertemplate": "<b>%{hovertext}</b><br><br>latitude=%{lat}<br>longitude=%{lon}<extra></extra>",
         "hovertext": [
          "Calle 13, Puente Aranda, Bogotá",
          "Suba, Suba, Bogotá",
          "Santa ana, Usaquen, Bogotá",
          "Calle 80, Engativa, Bogotá",
          "Av Chile, Barrios unidos, Bogotá",
          "Carrera 7 75 51, Bogotá"
         ],
         "lat": [
          4.6386264,
          4.70816235,
          4.6875886,
          4.7284908,
          4.6661427,
          4.5574286
         ],
         "legendgroup": "",
         "lon": [
          -74.11693832515948,
          -74.05622046620164,
          -74.0332445,
          -74.1265966,
          -74.0746373799979,
          -74.119339
         ],
         "marker": {
          "color": "#636efa"
         },
         "mode": "markers",
         "name": "",
         "showlegend": false,
         "subplot": "mapbox",
         "type": "scattermapbox"
        }
       ],
       "layout": {
        "height": 300,
        "legend": {
         "tracegroupgap": 0
        },
        "mapbox": {
         "center": {
          "lat": 4.664406575,
          "lon": -74.08782937855983
         },
         "domain": {
          "x": [
           0,
           1
          ],
          "y": [
           0,
           1
          ]
         },
         "style": "carto-positron",
         "zoom": 10
        },
        "margin": {
         "b": 0,
         "l": 0,
         "r": 0,
         "t": 0
        },
        "template": {
         "data": {
          "bar": [
           {
            "error_x": {
             "color": "#2a3f5f"
            },
            "error_y": {
             "color": "#2a3f5f"
            },
            "marker": {
             "line": {
              "color": "#E5ECF6",
              "width": 0.5
             },
             "pattern": {
              "fillmode": "overlay",
              "size": 10,
              "solidity": 0.2
             }
            },
            "type": "bar"
           }
          ],
          "barpolar": [
           {
            "marker": {
             "line": {
              "color": "#E5ECF6",
              "width": 0.5
             },
             "pattern": {
              "fillmode": "overlay",
              "size": 10,
              "solidity": 0.2
             }
            },
            "type": "barpolar"
           }
          ],
          "carpet": [
           {
            "aaxis": {
             "endlinecolor": "#2a3f5f",
             "gridcolor": "white",
             "linecolor": "white",
             "minorgridcolor": "white",
             "startlinecolor": "#2a3f5f"
            },
            "baxis": {
             "endlinecolor": "#2a3f5f",
             "gridcolor": "white",
             "linecolor": "white",
             "minorgridcolor": "white",
             "startlinecolor": "#2a3f5f"
            },
            "type": "carpet"
           }
          ],
          "choropleth": [
           {
            "colorbar": {
             "outlinewidth": 0,
             "ticks": ""
            },
            "type": "choropleth"
           }
          ],
          "contour": [
           {
            "colorbar": {
             "outlinewidth": 0,
             "ticks": ""
            },
            "colorscale": [
             [
              0,
              "#0d0887"
             ],
             [
              0.1111111111111111,
              "#46039f"
             ],
             [
              0.2222222222222222,
              "#7201a8"
             ],
             [
              0.3333333333333333,
              "#9c179e"
             ],
             [
              0.4444444444444444,
              "#bd3786"
             ],
             [
              0.5555555555555556,
              "#d8576b"
             ],
             [
              0.6666666666666666,
              "#ed7953"
             ],
             [
              0.7777777777777778,
              "#fb9f3a"
             ],
             [
              0.8888888888888888,
              "#fdca26"
             ],
             [
              1,
              "#f0f921"
             ]
            ],
            "type": "contour"
           }
          ],
          "contourcarpet": [
           {
            "colorbar": {
             "outlinewidth": 0,
             "ticks": ""
            },
            "type": "contourcarpet"
           }
          ],
          "heatmap": [
           {
            "colorbar": {
             "outlinewidth": 0,
             "ticks": ""
            },
            "colorscale": [
             [
              0,
              "#0d0887"
             ],
             [
              0.1111111111111111,
              "#46039f"
             ],
             [
              0.2222222222222222,
              "#7201a8"
             ],
             [
              0.3333333333333333,
              "#9c179e"
             ],
             [
              0.4444444444444444,
              "#bd3786"
             ],
             [
              0.5555555555555556,
              "#d8576b"
             ],
             [
              0.6666666666666666,
              "#ed7953"
             ],
             [
              0.7777777777777778,
              "#fb9f3a"
             ],
             [
              0.8888888888888888,
              "#fdca26"
             ],
             [
              1,
              "#f0f921"
             ]
            ],
            "type": "heatmap"
           }
          ],
          "heatmapgl": [
           {
            "colorbar": {
             "outlinewidth": 0,
             "ticks": ""
            },
            "colorscale": [
             [
              0,
              "#0d0887"
             ],
             [
              0.1111111111111111,
              "#46039f"
             ],
             [
              0.2222222222222222,
              "#7201a8"
             ],
             [
              0.3333333333333333,
              "#9c179e"
             ],
             [
              0.4444444444444444,
              "#bd3786"
             ],
             [
              0.5555555555555556,
              "#d8576b"
             ],
             [
              0.6666666666666666,
              "#ed7953"
             ],
             [
              0.7777777777777778,
              "#fb9f3a"
             ],
             [
              0.8888888888888888,
              "#fdca26"
             ],
             [
              1,
              "#f0f921"
             ]
            ],
            "type": "heatmapgl"
           }
          ],
          "histogram": [
           {
            "marker": {
             "pattern": {
              "fillmode": "overlay",
              "size": 10,
              "solidity": 0.2
             }
            },
            "type": "histogram"
           }
          ],
          "histogram2d": [
           {
            "colorbar": {
             "outlinewidth": 0,
             "ticks": ""
            },
            "colorscale": [
             [
              0,
              "#0d0887"
             ],
             [
              0.1111111111111111,
              "#46039f"
             ],
             [
              0.2222222222222222,
              "#7201a8"
             ],
             [
              0.3333333333333333,
              "#9c179e"
             ],
             [
              0.4444444444444444,
              "#bd3786"
             ],
             [
              0.5555555555555556,
              "#d8576b"
             ],
             [
              0.6666666666666666,
              "#ed7953"
             ],
             [
              0.7777777777777778,
              "#fb9f3a"
             ],
             [
              0.8888888888888888,
              "#fdca26"
             ],
             [
              1,
              "#f0f921"
             ]
            ],
            "type": "histogram2d"
           }
          ],
          "histogram2dcontour": [
           {
            "colorbar": {
             "outlinewidth": 0,
             "ticks": ""
            },
            "colorscale": [
             [
              0,
              "#0d0887"
             ],
             [
              0.1111111111111111,
              "#46039f"
             ],
             [
              0.2222222222222222,
              "#7201a8"
             ],
             [
              0.3333333333333333,
              "#9c179e"
             ],
             [
              0.4444444444444444,
              "#bd3786"
             ],
             [
              0.5555555555555556,
              "#d8576b"
             ],
             [
              0.6666666666666666,
              "#ed7953"
             ],
             [
              0.7777777777777778,
              "#fb9f3a"
             ],
             [
              0.8888888888888888,
              "#fdca26"
             ],
             [
              1,
              "#f0f921"
             ]
            ],
            "type": "histogram2dcontour"
           }
          ],
          "mesh3d": [
           {
            "colorbar": {
             "outlinewidth": 0,
             "ticks": ""
            },
            "type": "mesh3d"
           }
          ],
          "parcoords": [
           {
            "line": {
             "colorbar": {
              "outlinewidth": 0,
              "ticks": ""
             }
            },
            "type": "parcoords"
           }
          ],
          "pie": [
           {
            "automargin": true,
            "type": "pie"
           }
          ],
          "scatter": [
           {
            "fillpattern": {
             "fillmode": "overlay",
             "size": 10,
             "solidity": 0.2
            },
            "type": "scatter"
           }
          ],
          "scatter3d": [
           {
            "line": {
             "colorbar": {
              "outlinewidth": 0,
              "ticks": ""
             }
            },
            "marker": {
             "colorbar": {
              "outlinewidth": 0,
              "ticks": ""
             }
            },
            "type": "scatter3d"
           }
          ],
          "scattercarpet": [
           {
            "marker": {
             "colorbar": {
              "outlinewidth": 0,
              "ticks": ""
             }
            },
            "type": "scattercarpet"
           }
          ],
          "scattergeo": [
           {
            "marker": {
             "colorbar": {
              "outlinewidth": 0,
              "ticks": ""
             }
            },
            "type": "scattergeo"
           }
          ],
          "scattergl": [
           {
            "marker": {
             "colorbar": {
              "outlinewidth": 0,
              "ticks": ""
             }
            },
            "type": "scattergl"
           }
          ],
          "scattermapbox": [
           {
            "marker": {
             "colorbar": {
              "outlinewidth": 0,
              "ticks": ""
             }
            },
            "type": "scattermapbox"
           }
          ],
          "scatterpolar": [
           {
            "marker": {
             "colorbar": {
              "outlinewidth": 0,
              "ticks": ""
             }
            },
            "type": "scatterpolar"
           }
          ],
          "scatterpolargl": [
           {
            "marker": {
             "colorbar": {
              "outlinewidth": 0,
              "ticks": ""
             }
            },
            "type": "scatterpolargl"
           }
          ],
          "scatterternary": [
           {
            "marker": {
             "colorbar": {
              "outlinewidth": 0,
              "ticks": ""
             }
            },
            "type": "scatterternary"
           }
          ],
          "surface": [
           {
            "colorbar": {
             "outlinewidth": 0,
             "ticks": ""
            },
            "colorscale": [
             [
              0,
              "#0d0887"
             ],
             [
              0.1111111111111111,
              "#46039f"
             ],
             [
              0.2222222222222222,
              "#7201a8"
             ],
             [
              0.3333333333333333,
              "#9c179e"
             ],
             [
              0.4444444444444444,
              "#bd3786"
             ],
             [
              0.5555555555555556,
              "#d8576b"
             ],
             [
              0.6666666666666666,
              "#ed7953"
             ],
             [
              0.7777777777777778,
              "#fb9f3a"
             ],
             [
              0.8888888888888888,
              "#fdca26"
             ],
             [
              1,
              "#f0f921"
             ]
            ],
            "type": "surface"
           }
          ],
          "table": [
           {
            "cells": {
             "fill": {
              "color": "#EBF0F8"
             },
             "line": {
              "color": "white"
             }
            },
            "header": {
             "fill": {
              "color": "#C8D4E3"
             },
             "line": {
              "color": "white"
             }
            },
            "type": "table"
           }
          ]
         },
         "layout": {
          "annotationdefaults": {
           "arrowcolor": "#2a3f5f",
           "arrowhead": 0,
           "arrowwidth": 1
          },
          "autotypenumbers": "strict",
          "coloraxis": {
           "colorbar": {
            "outlinewidth": 0,
            "ticks": ""
           }
          },
          "colorscale": {
           "diverging": [
            [
             0,
             "#8e0152"
            ],
            [
             0.1,
             "#c51b7d"
            ],
            [
             0.2,
             "#de77ae"
            ],
            [
             0.3,
             "#f1b6da"
            ],
            [
             0.4,
             "#fde0ef"
            ],
            [
             0.5,
             "#f7f7f7"
            ],
            [
             0.6,
             "#e6f5d0"
            ],
            [
             0.7,
             "#b8e186"
            ],
            [
             0.8,
             "#7fbc41"
            ],
            [
             0.9,
             "#4d9221"
            ],
            [
             1,
             "#276419"
            ]
           ],
           "sequential": [
            [
             0,
             "#0d0887"
            ],
            [
             0.1111111111111111,
             "#46039f"
            ],
            [
             0.2222222222222222,
             "#7201a8"
            ],
            [
             0.3333333333333333,
             "#9c179e"
            ],
            [
             0.4444444444444444,
             "#bd3786"
            ],
            [
             0.5555555555555556,
             "#d8576b"
            ],
            [
             0.6666666666666666,
             "#ed7953"
            ],
            [
             0.7777777777777778,
             "#fb9f3a"
            ],
            [
             0.8888888888888888,
             "#fdca26"
            ],
            [
             1,
             "#f0f921"
            ]
           ],
           "sequentialminus": [
            [
             0,
             "#0d0887"
            ],
            [
             0.1111111111111111,
             "#46039f"
            ],
            [
             0.2222222222222222,
             "#7201a8"
            ],
            [
             0.3333333333333333,
             "#9c179e"
            ],
            [
             0.4444444444444444,
             "#bd3786"
            ],
            [
             0.5555555555555556,
             "#d8576b"
            ],
            [
             0.6666666666666666,
             "#ed7953"
            ],
            [
             0.7777777777777778,
             "#fb9f3a"
            ],
            [
             0.8888888888888888,
             "#fdca26"
            ],
            [
             1,
             "#f0f921"
            ]
           ]
          },
          "colorway": [
           "#636efa",
           "#EF553B",
           "#00cc96",
           "#ab63fa",
           "#FFA15A",
           "#19d3f3",
           "#FF6692",
           "#B6E880",
           "#FF97FF",
           "#FECB52"
          ],
          "font": {
           "color": "#2a3f5f"
          },
          "geo": {
           "bgcolor": "white",
           "lakecolor": "white",
           "landcolor": "#E5ECF6",
           "showlakes": true,
           "showland": true,
           "subunitcolor": "white"
          },
          "hoverlabel": {
           "align": "left"
          },
          "hovermode": "closest",
          "mapbox": {
           "style": "light"
          },
          "paper_bgcolor": "white",
          "plot_bgcolor": "#E5ECF6",
          "polar": {
           "angularaxis": {
            "gridcolor": "white",
            "linecolor": "white",
            "ticks": ""
           },
           "bgcolor": "#E5ECF6",
           "radialaxis": {
            "gridcolor": "white",
            "linecolor": "white",
            "ticks": ""
           }
          },
          "scene": {
           "xaxis": {
            "backgroundcolor": "#E5ECF6",
            "gridcolor": "white",
            "gridwidth": 2,
            "linecolor": "white",
            "showbackground": true,
            "ticks": "",
            "zerolinecolor": "white"
           },
           "yaxis": {
            "backgroundcolor": "#E5ECF6",
            "gridcolor": "white",
            "gridwidth": 2,
            "linecolor": "white",
            "showbackground": true,
            "ticks": "",
            "zerolinecolor": "white"
           },
           "zaxis": {
            "backgroundcolor": "#E5ECF6",
            "gridcolor": "white",
            "gridwidth": 2,
            "linecolor": "white",
            "showbackground": true,
            "ticks": "",
            "zerolinecolor": "white"
           }
          },
          "shapedefaults": {
           "line": {
            "color": "#2a3f5f"
           }
          },
          "ternary": {
           "aaxis": {
            "gridcolor": "white",
            "linecolor": "white",
            "ticks": ""
           },
           "baxis": {
            "gridcolor": "white",
            "linecolor": "white",
            "ticks": ""
           },
           "bgcolor": "#E5ECF6",
           "caxis": {
            "gridcolor": "white",
            "linecolor": "white",
            "ticks": ""
           }
          },
          "title": {
           "x": 0.05
          },
          "xaxis": {
           "automargin": true,
           "gridcolor": "white",
           "linecolor": "white",
           "ticks": "",
           "title": {
            "standoff": 15
           },
           "zerolinecolor": "white",
           "zerolinewidth": 2
          },
          "yaxis": {
           "automargin": true,
           "gridcolor": "white",
           "linecolor": "white",
           "ticks": "",
           "title": {
            "standoff": 15
           },
           "zerolinecolor": "white",
           "zerolinewidth": 2
          }
         }
        }
       }
      }
     },
     "metadata": {},
     "output_type": "display_data"
    }
   ],
   "source": [
    "#Mapeando con plotly\n",
    "import plotly.express as px\n",
    "fig = px.scatter_mapbox( df_localidades, lat=\"latitude\", lon=\"longitude\",\n",
    "                    hover_name=\"direccion\",\n",
    "                    zoom=10,\n",
    "                    height=300)\n",
    "fig.update_layout(mapbox_style=\"carto-positron\",\n",
    "                    margin={\"r\":0,\"t\":0,\"l\":0,\"b\":0}, \n",
    "                    )\n",
    "fig.show()"
   ]
  },
  {
   "attachments": {},
   "cell_type": "markdown",
   "metadata": {},
   "source": [
    "\n",
    "<div style=\"display:flex; flex-direction:row;\">\n",
    "  <div style=\"flex:1;\">\n",
    "  <center>\n",
    "    <img src=\"http://www.idforideas.com/img/logo.png\" alt=\"imagen1\" style=\"background-color:white;border-radius:50%\"; height=\"100\" width=\"100\">\n",
    "        <a href=\"https://www.idforideas.com/\" target=\"_blank\"><p>Specials Thanks </br> IDFORIDEAS </p></a>\n",
    "        </center>\n",
    "  </div>\n",
    "  <div style=\"flex:1;\">\n",
    "  <center>\n",
    " <img src=\"https://maia.run/wp-content/uploads/2023/01/Logotipo-Completo-Horizontal-MAIA-DIAPO-BLANCO-RGB-e1674195347476-768x251.png\" alt=\"imagen1\"  height=\"100\">\n",
    "        <a href=\"https://www.maia.run\" target=\"_blank\"><p>Mastering Artificial Intelligence Administration</p></a>\n",
    "        </center>\n",
    "  </div>\n",
    "    <div style=\"flex:1;\">\n",
    "  <center>\n",
    " <img src=\"https://maia.run/wp-content/uploads/2022/12/Emblema-MAIA-DIAPO-BLANCO-RGB-150x150.png\" alt=\"imagen1\"  height=\"100\" width=\"100\">\n",
    "        <a href=\"https://www.maiacorp.us\" target=\"_blank\"><p>MAIACorp, Wyoming, USA</p></a>\n",
    "        </center>\n",
    "</div>"
   ]
  }
 ],
 "metadata": {
  "kernelspec": {
   "display_name": "Python 3",
   "language": "python",
   "name": "python3"
  },
  "language_info": {
   "codemirror_mode": {
    "name": "ipython",
    "version": 3
   },
   "file_extension": ".py",
   "mimetype": "text/x-python",
   "name": "python",
   "nbconvert_exporter": "python",
   "pygments_lexer": "ipython3",
   "version": "3.10.6"
  },
  "orig_nbformat": 4,
  "vscode": {
   "interpreter": {
    "hash": "916dbcbb3f70747c44a77c7bcd40155683ae19c65e1c03b4aa3499c5328201f1"
   }
  }
 },
 "nbformat": 4,
 "nbformat_minor": 2
}
