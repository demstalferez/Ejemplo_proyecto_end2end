{
 "cells": [
  {
   "attachments": {},
   "cell_type": "markdown",
   "metadata": {},
   "source": [
    " <center><img src=\"../img/logo.png\" alt=\"logo empresa\" height=\"200\"> </center>\n",
    "<center><h1>Project:“AUTO MOTORS”</h1></center>\n",
    "<center><p> Analyze the impact of the pandemic in this company</p></center>"
   ]
  },
  {
   "cell_type": "code",
   "execution_count": 4,
   "metadata": {},
   "outputs": [],
   "source": [
    "import pandas as pd \n",
    "import seaborn as sns"
   ]
  },
  {
   "cell_type": "code",
   "execution_count": 5,
   "metadata": {},
   "outputs": [
    {
     "name": "stderr",
     "output_type": "stream",
     "text": [
      "/home/dm/.local/lib/python3.10/site-packages/IPython/core/interactiveshell.py:3433: DtypeWarning: Columns (0,1,2,4,5,7,8,9,10,11) have mixed types.Specify dtype option on import or set low_memory=False.\n",
      "  exec(code_obj, self.user_global_ns, self.user_ns)\n"
     ]
    }
   ],
   "source": [
    "ventas = pd.read_csv(\"data/Ventas.csv\", sep=\";\")\n",
    "empleados = pd.read_csv(\"data/Empleados.csv\", sep=\";\")"
   ]
  },
  {
   "cell_type": "code",
   "execution_count": 6,
   "metadata": {},
   "outputs": [
    {
     "data": {
      "text/html": [
       "<div>\n",
       "<style scoped>\n",
       "    .dataframe tbody tr th:only-of-type {\n",
       "        vertical-align: middle;\n",
       "    }\n",
       "\n",
       "    .dataframe tbody tr th {\n",
       "        vertical-align: top;\n",
       "    }\n",
       "\n",
       "    .dataframe thead th {\n",
       "        text-align: right;\n",
       "    }\n",
       "</style>\n",
       "<table border=\"1\" class=\"dataframe\">\n",
       "  <thead>\n",
       "    <tr style=\"text-align: right;\">\n",
       "      <th></th>\n",
       "      <th>IdCliente</th>\n",
       "      <th>NombreCliente</th>\n",
       "      <th>Fecha</th>\n",
       "      <th>Empleado</th>\n",
       "      <th>Referencia</th>\n",
       "      <th>Descripcion</th>\n",
       "      <th>CodigoFamilia</th>\n",
       "      <th>Familia</th>\n",
       "      <th>Cantidad</th>\n",
       "      <th>Ventas</th>\n",
       "      <th>Localidad</th>\n",
       "      <th>Sede</th>\n",
       "      <th>Area</th>\n",
       "    </tr>\n",
       "  </thead>\n",
       "  <tbody>\n",
       "    <tr>\n",
       "      <th>0</th>\n",
       "      <td>C1070956433</td>\n",
       "      <td>PINTO JOHN</td>\n",
       "      <td>1/9/2016</td>\n",
       "      <td>24.0</td>\n",
       "      <td>LL-2R-0038</td>\n",
       "      <td>PILOT STREET 110/80-17</td>\n",
       "      <td>101.0</td>\n",
       "      <td>LLANTA</td>\n",
       "      <td>1</td>\n",
       "      <td>129310</td>\n",
       "      <td>Puente aranda</td>\n",
       "      <td>Calle 13</td>\n",
       "      <td>35.0</td>\n",
       "    </tr>\n",
       "    <tr>\n",
       "      <th>1</th>\n",
       "      <td>C1032372566</td>\n",
       "      <td>CESAR CRUZ</td>\n",
       "      <td>1/9/2016</td>\n",
       "      <td>14.0</td>\n",
       "      <td>LL-TCA-0133</td>\n",
       "      <td>TOURING 175/70R13</td>\n",
       "      <td>101.0</td>\n",
       "      <td>LLANTA</td>\n",
       "      <td>2</td>\n",
       "      <td>181034</td>\n",
       "      <td>Suba</td>\n",
       "      <td>Suba</td>\n",
       "      <td>32.0</td>\n",
       "    </tr>\n",
       "    <tr>\n",
       "      <th>2</th>\n",
       "      <td>C2865810</td>\n",
       "      <td>PINEDA JAIME</td>\n",
       "      <td>1/9/2016</td>\n",
       "      <td>12.0</td>\n",
       "      <td>LL-TCA-0019</td>\n",
       "      <td>ENERGY XM2 185/65R14</td>\n",
       "      <td>101.0</td>\n",
       "      <td>LLANTA</td>\n",
       "      <td>1</td>\n",
       "      <td>193095</td>\n",
       "      <td>Usaquen</td>\n",
       "      <td>Santa ana</td>\n",
       "      <td>33.0</td>\n",
       "    </tr>\n",
       "    <tr>\n",
       "      <th>3</th>\n",
       "      <td>C11210285</td>\n",
       "      <td>VILLALBA RODRIGUEZ FABIO</td>\n",
       "      <td>1/9/2016</td>\n",
       "      <td>24.0</td>\n",
       "      <td>LL-TCA-0009</td>\n",
       "      <td>ENERGY XM2 165/65R13</td>\n",
       "      <td>101.0</td>\n",
       "      <td>LLANTA</td>\n",
       "      <td>2</td>\n",
       "      <td>262069</td>\n",
       "      <td>Puente aranda</td>\n",
       "      <td>Calle 13</td>\n",
       "      <td>35.0</td>\n",
       "    </tr>\n",
       "    <tr>\n",
       "      <th>4</th>\n",
       "      <td>C80755314</td>\n",
       "      <td>MOLINA RONALD</td>\n",
       "      <td>1/9/2016</td>\n",
       "      <td>14.0</td>\n",
       "      <td>LL-TCA-0132</td>\n",
       "      <td>NO UTILIZAR</td>\n",
       "      <td>101.0</td>\n",
       "      <td>LLANTA</td>\n",
       "      <td>4</td>\n",
       "      <td>362069</td>\n",
       "      <td>Suba</td>\n",
       "      <td>Suba</td>\n",
       "      <td>32.0</td>\n",
       "    </tr>\n",
       "  </tbody>\n",
       "</table>\n",
       "</div>"
      ],
      "text/plain": [
       "     IdCliente             NombreCliente     Fecha  Empleado   Referencia  \\\n",
       "0  C1070956433                PINTO JOHN  1/9/2016      24.0   LL-2R-0038   \n",
       "1  C1032372566                CESAR CRUZ  1/9/2016      14.0  LL-TCA-0133   \n",
       "2     C2865810              PINEDA JAIME  1/9/2016      12.0  LL-TCA-0019   \n",
       "3    C11210285  VILLALBA RODRIGUEZ FABIO  1/9/2016      24.0  LL-TCA-0009   \n",
       "4    C80755314             MOLINA RONALD  1/9/2016      14.0  LL-TCA-0132   \n",
       "\n",
       "              Descripcion  CodigoFamilia Familia Cantidad  Ventas  \\\n",
       "0  PILOT STREET 110/80-17          101.0  LLANTA        1  129310   \n",
       "1       TOURING 175/70R13          101.0  LLANTA        2  181034   \n",
       "2    ENERGY XM2 185/65R14          101.0  LLANTA        1  193095   \n",
       "3    ENERGY XM2 165/65R13          101.0  LLANTA        2  262069   \n",
       "4             NO UTILIZAR          101.0  LLANTA        4  362069   \n",
       "\n",
       "       Localidad       Sede  Area  \n",
       "0  Puente aranda   Calle 13  35.0  \n",
       "1           Suba       Suba  32.0  \n",
       "2        Usaquen  Santa ana  33.0  \n",
       "3  Puente aranda   Calle 13  35.0  \n",
       "4           Suba       Suba  32.0  "
      ]
     },
     "execution_count": 6,
     "metadata": {},
     "output_type": "execute_result"
    }
   ],
   "source": [
    "ventas.head()\n"
   ]
  },
  {
   "cell_type": "code",
   "execution_count": 7,
   "metadata": {},
   "outputs": [
    {
     "data": {
      "text/html": [
       "<div>\n",
       "<style scoped>\n",
       "    .dataframe tbody tr th:only-of-type {\n",
       "        vertical-align: middle;\n",
       "    }\n",
       "\n",
       "    .dataframe tbody tr th {\n",
       "        vertical-align: top;\n",
       "    }\n",
       "\n",
       "    .dataframe thead th {\n",
       "        text-align: right;\n",
       "    }\n",
       "</style>\n",
       "<table border=\"1\" class=\"dataframe\">\n",
       "  <thead>\n",
       "    <tr style=\"text-align: right;\">\n",
       "      <th></th>\n",
       "      <th>Id_Empleado</th>\n",
       "      <th>Nombre y Apellido</th>\n",
       "    </tr>\n",
       "  </thead>\n",
       "  <tbody>\n",
       "    <tr>\n",
       "      <th>0</th>\n",
       "      <td>1</td>\n",
       "      <td>Juan Pastran</td>\n",
       "    </tr>\n",
       "    <tr>\n",
       "      <th>1</th>\n",
       "      <td>2</td>\n",
       "      <td>Esteban Damico</td>\n",
       "    </tr>\n",
       "    <tr>\n",
       "      <th>2</th>\n",
       "      <td>3</td>\n",
       "      <td>Julian Quevedo</td>\n",
       "    </tr>\n",
       "    <tr>\n",
       "      <th>3</th>\n",
       "      <td>4</td>\n",
       "      <td>Oscar Rosseto</td>\n",
       "    </tr>\n",
       "    <tr>\n",
       "      <th>4</th>\n",
       "      <td>5</td>\n",
       "      <td>Valentin Quintero</td>\n",
       "    </tr>\n",
       "  </tbody>\n",
       "</table>\n",
       "</div>"
      ],
      "text/plain": [
       "   Id_Empleado  Nombre y Apellido\n",
       "0            1       Juan Pastran\n",
       "1            2     Esteban Damico\n",
       "2            3     Julian Quevedo\n",
       "3            4      Oscar Rosseto\n",
       "4            5  Valentin Quintero"
      ]
     },
     "execution_count": 7,
     "metadata": {},
     "output_type": "execute_result"
    }
   ],
   "source": [
    "empleados.head()"
   ]
  },
  {
   "cell_type": "code",
   "execution_count": 8,
   "metadata": {},
   "outputs": [
    {
     "data": {
      "text/plain": [
       "((1048575, 13), (68, 2))"
      ]
     },
     "execution_count": 8,
     "metadata": {},
     "output_type": "execute_result"
    }
   ],
   "source": [
    "ventas.shape, empleados.shape"
   ]
  },
  {
   "attachments": {},
   "cell_type": "markdown",
   "metadata": {},
   "source": [
    "<center><h1>1. CLEANING</h1></center>\n"
   ]
  },
  {
   "cell_type": "code",
   "execution_count": 9,
   "metadata": {},
   "outputs": [
    {
     "name": "stdout",
     "output_type": "stream",
     "text": [
      "IdCliente        921320\n",
      "NombreCliente    921320\n",
      "Fecha            921320\n",
      "Empleado         921320\n",
      "Referencia       921320\n",
      "Descripcion      921320\n",
      "CodigoFamilia    921320\n",
      "Familia          921320\n",
      "Cantidad         921320\n",
      "Ventas           921320\n",
      "Localidad        921320\n",
      "Sede             921319\n",
      "Area             921320\n",
      "dtype: int64\n"
     ]
    },
    {
     "data": {
      "text/plain": [
       "<AxesSubplot: >"
      ]
     },
     "execution_count": 9,
     "metadata": {},
     "output_type": "execute_result"
    },
    {
     "data": {
      "image/png": "[encoded data removed]",
      "text/plain": [
       "<Figure size 640x480 with 2 Axes>"
      ]
     },
     "metadata": {},
     "output_type": "display_data"
    }
   ],
   "source": [
    "print(ventas.isnull().sum())\n",
    "sns.heatmap(ventas.isnull()) "
   ]
  },
  {
   "cell_type": "code",
   "execution_count": 10,
   "metadata": {},
   "outputs": [
    {
     "name": "stdout",
     "output_type": "stream",
     "text": [
      "Id_Empleado          0\n",
      "Nombre y Apellido    0\n",
      "dtype: int64\n"
     ]
    },
    {
     "data": {
      "text/plain": [
       "<AxesSubplot: >"
      ]
     },
     "execution_count": 10,
     "metadata": {},
     "output_type": "execute_result"
    },
    {
     "data": {
      "image/png": "[encoded data removed]",
      "text/plain": [
       "<Figure size 640x480 with 2 Axes>"
      ]
     },
     "metadata": {},
     "output_type": "display_data"
    }
   ],
   "source": [
    "print(empleados.isnull().sum())\n",
    "sns.heatmap(empleados.isnull())"
   ]
  },
  {
   "cell_type": "code",
   "execution_count": 11,
   "metadata": {},
   "outputs": [
    {
     "data": {
      "text/plain": [
       "IdCliente        87.864006\n",
       "NombreCliente    87.864006\n",
       "Fecha            87.864006\n",
       "Empleado         87.864006\n",
       "Referencia       87.864006\n",
       "Descripcion      87.864006\n",
       "CodigoFamilia    87.864006\n",
       "Familia          87.864006\n",
       "Cantidad         87.864006\n",
       "Ventas           87.864006\n",
       "Localidad        87.864006\n",
       "Area             87.864006\n",
       "Sede             87.863911\n",
       "dtype: float64"
      ]
     },
     "execution_count": 11,
     "metadata": {},
     "output_type": "execute_result"
    }
   ],
   "source": [
    "ventastotal = ventas.isnull().sum().sort_values(ascending=False)\n",
    "ventastotal_per = ventastotal/len(ventas)*100\n",
    "ventastotal_per"
   ]
  },
  {
   "cell_type": "code",
   "execution_count": 12,
   "metadata": {},
   "outputs": [],
   "source": [
    "#we can see that in the sales csv, the null values ​​correspond to raws without any information in main data set,\n",
    "#they do not contain null values ​​between them, we proceed to eliminate the empty fields\n",
    "ventas.dropna(inplace = True)"
   ]
  },
  {
   "cell_type": "code",
   "execution_count": 13,
   "metadata": {},
   "outputs": [
    {
     "name": "stdout",
     "output_type": "stream",
     "text": [
      "IdCliente        0\n",
      "NombreCliente    0\n",
      "Fecha            0\n",
      "Empleado         0\n",
      "Referencia       0\n",
      "Descripcion      0\n",
      "CodigoFamilia    0\n",
      "Familia          0\n",
      "Cantidad         0\n",
      "Ventas           0\n",
      "Localidad        0\n",
      "Sede             0\n",
      "Area             0\n",
      "dtype: int64\n"
     ]
    },
    {
     "data": {
      "text/plain": [
       "<AxesSubplot: >"
      ]
     },
     "execution_count": 13,
     "metadata": {},
     "output_type": "execute_result"
    },
    {
     "data": {
      "image/png": "[encoded data removed]",
      "text/plain": [
       "<Figure size 640x480 with 2 Axes>"
      ]
     },
     "metadata": {},
     "output_type": "display_data"
    }
   ],
   "source": [
    "#Cheking \n",
    "print(ventas.isnull().sum())\n",
    "sns.heatmap(ventas.isnull())"
   ]
  },
  {
   "attachments": {},
   "cell_type": "markdown",
   "metadata": {},
   "source": [
    " <center><img src=\"https://d1csarkz8obe9u.cloudfront.net/posterpreviews/warning-symbol%2C-warning-sign-design-template-5becb2f6646d14a8076b36a92efb1db8_screen.jpg?ts=1609018489\n",
    "\" alt=\"logo empresa\" height=\"50\" style=\"border-radius:30%;\"></center>\n",
    "\n",
    "<center><h3>ATENCIÓN</h3></center>\n",
    "\n",
    "<h4>Analyzing the data proposed in the PDF versus the dataset received, we see conclusions provided by the company, the first one being that the dataset contained a 87% of missing values versus the index, the company should be informed if this is due to bad export or data collection before continuing to tackle the problem, assuming for further teaching that it is a non-critical fault due to an error and the sales data is all there, we proceed to keep treating it.</h4>"
   ]
  },
  {
   "attachments": {},
   "cell_type": "markdown",
   "metadata": {},
   "source": [
    "<center><h1>2. Treatment</h1></center>\n"
   ]
  },
  {
   "attachments": {},
   "cell_type": "markdown",
   "metadata": {},
   "source": [
    "<center>For this project we must manage in US dollars for the reports , we make the corresponding conversion.</center>"
   ]
  },
  {
   "cell_type": "code",
   "execution_count": 15,
   "metadata": {},
   "outputs": [
    {
     "name": "stdout",
     "output_type": "stream",
     "text": [
      "[*********************100%***********************]  1 of 1 completed\n",
      "                   Open         High          Low        Close    Adj Close  \\\n",
      "Date                                                                          \n",
      "2023-02-14  4829.049805  4829.049805  4829.049805  4829.049805  4829.049805   \n",
      "\n",
      "            Volume  \n",
      "Date                \n",
      "2023-02-14       0  \n",
      "4829.0498046875\n"
     ]
    }
   ],
   "source": [
    "#The conversion must be performed in the Sales column, it is in Colombian currency this must be converted to US Dollars. First we check the current exchange rate.\n",
    "import yfinance as yf\n",
    "#How many Colombian pesos is one dollar?\n",
    "Dollar = yf.download(\"COP=X\", period=\"1d\", interval=\"1d\")\n",
    "print(Dollar)\n",
    "print(*Dollar['Close'].values)"
   ]
  },
  {
   "cell_type": "code",
   "execution_count": 16,
   "metadata": {},
   "outputs": [
    {
     "data": {
      "text/plain": [
       "IdCliente         object\n",
       "NombreCliente     object\n",
       "Fecha             object\n",
       "Empleado         float64\n",
       "Referencia        object\n",
       "Descripcion       object\n",
       "CodigoFamilia    float64\n",
       "Familia           object\n",
       "Cantidad          object\n",
       "Ventas            object\n",
       "Localidad         object\n",
       "Sede              object\n",
       "Area             float64\n",
       "dtype: object"
      ]
     },
     "execution_count": 16,
     "metadata": {},
     "output_type": "execute_result"
    }
   ],
   "source": [
    "#Check the type of the Sales column.\n",
    "ventas.dtypes"
   ]
  },
  {
   "cell_type": "code",
   "execution_count": 17,
   "metadata": {},
   "outputs": [
    {
     "name": "stderr",
     "output_type": "stream",
     "text": [
      "/tmp/ipykernel_126859/1026585482.py:3: FutureWarning: The default value of regex will change from True to False in a future version. In addition, single character regular expressions will *not* be treated as literal strings when regex=True.\n",
      "  ventas[\"Ventas\"] = ventas[\"Ventas\"].str.replace(\".\",\"\")  #quitamos el punto decimal\n"
     ]
    }
   ],
   "source": [
    "#float conversion \n",
    "ventas[\"Ventas\"] = ventas[\"Ventas\"].str.replace(\",00\",\"\") #Lo que hacemos es eliminar la coma y los dos ceros seguidos \n",
    "ventas[\"Ventas\"] = ventas[\"Ventas\"].str.replace(\".\",\"\")  #quitamos el punto decimal\n",
    "ventas[\"Ventas\"] = ventas[\"Ventas\"].astype(\"float\") #y por ultimo, damos formato a decimal"
   ]
  },
  {
   "cell_type": "code",
   "execution_count": 18,
   "metadata": {},
   "outputs": [],
   "source": [
    "#Considering the closing value, we change the values of the Sales column.\n",
    "ventas[\"Ventas\"] = ventas[\"Ventas\"].apply(lambda x:x/4749.1298828125)"
   ]
  },
  {
   "cell_type": "code",
   "execution_count": 19,
   "metadata": {},
   "outputs": [
    {
     "data": {
      "text/plain": [
       "count    127255.000000\n",
       "mean        123.150521\n",
       "std         684.626986\n",
       "min           0.027373\n",
       "25%           2.654170\n",
       "50%           6.193134\n",
       "75%          10.891258\n",
       "max       46371.568358\n",
       "Name: Ventas, dtype: float64"
      ]
     },
     "execution_count": 19,
     "metadata": {},
     "output_type": "execute_result"
    }
   ],
   "source": [
    "#Checking changes\n",
    "ventas[\"Ventas\"].describe()"
   ]
  },
  {
   "attachments": {},
   "cell_type": "markdown",
   "metadata": {},
   "source": [
    "Now we are going to add each employee name from the employee dataset to the sales dataset, in the Employee column where the id is equal."
   ]
  },
  {
   "cell_type": "code",
   "execution_count": 20,
   "metadata": {},
   "outputs": [
    {
     "data": {
      "text/html": [
       "<div>\n",
       "<style scoped>\n",
       "    .dataframe tbody tr th:only-of-type {\n",
       "        vertical-align: middle;\n",
       "    }\n",
       "\n",
       "    .dataframe tbody tr th {\n",
       "        vertical-align: top;\n",
       "    }\n",
       "\n",
       "    .dataframe thead th {\n",
       "        text-align: right;\n",
       "    }\n",
       "</style>\n",
       "<table border=\"1\" class=\"dataframe\">\n",
       "  <thead>\n",
       "    <tr style=\"text-align: right;\">\n",
       "      <th></th>\n",
       "      <th>Id_Empleado</th>\n",
       "      <th>Nombre y Apellido</th>\n",
       "    </tr>\n",
       "  </thead>\n",
       "  <tbody>\n",
       "    <tr>\n",
       "      <th>0</th>\n",
       "      <td>1</td>\n",
       "      <td>Juan Pastran</td>\n",
       "    </tr>\n",
       "    <tr>\n",
       "      <th>1</th>\n",
       "      <td>2</td>\n",
       "      <td>Esteban Damico</td>\n",
       "    </tr>\n",
       "    <tr>\n",
       "      <th>2</th>\n",
       "      <td>3</td>\n",
       "      <td>Julian Quevedo</td>\n",
       "    </tr>\n",
       "    <tr>\n",
       "      <th>3</th>\n",
       "      <td>4</td>\n",
       "      <td>Oscar Rosseto</td>\n",
       "    </tr>\n",
       "    <tr>\n",
       "      <th>4</th>\n",
       "      <td>5</td>\n",
       "      <td>Valentin Quintero</td>\n",
       "    </tr>\n",
       "  </tbody>\n",
       "</table>\n",
       "</div>"
      ],
      "text/plain": [
       "   Id_Empleado  Nombre y Apellido\n",
       "0            1       Juan Pastran\n",
       "1            2     Esteban Damico\n",
       "2            3     Julian Quevedo\n",
       "3            4      Oscar Rosseto\n",
       "4            5  Valentin Quintero"
      ]
     },
     "execution_count": 20,
     "metadata": {},
     "output_type": "execute_result"
    }
   ],
   "source": [
    "empleados.head()"
   ]
  },
  {
   "cell_type": "code",
   "execution_count": 21,
   "metadata": {},
   "outputs": [],
   "source": [
    "#Change the values of the employee column to integers.\n",
    "ventas[\"Empleado\"] = ventas[\"Empleado\"].astype(\"int\")"
   ]
  },
  {
   "cell_type": "code",
   "execution_count": 22,
   "metadata": {},
   "outputs": [
    {
     "name": "stdout",
     "output_type": "stream",
     "text": [
      "0 18461\n"
     ]
    }
   ],
   "source": [
    "print(empleados.duplicated().sum() ,ventas.duplicated().sum() ) #Check for duplicate fields."
   ]
  },
  {
   "cell_type": "code",
   "execution_count": 23,
   "metadata": {},
   "outputs": [],
   "source": [
    "#Remove duplicates\n",
    "ventas.drop_duplicates(inplace = True)   \n"
   ]
  },
  {
   "cell_type": "code",
   "execution_count": 24,
   "metadata": {},
   "outputs": [
    {
     "data": {
      "text/plain": [
       "{1: 'Juan Pastran',\n",
       " 2: 'Esteban Damico',\n",
       " 3: 'Julian Quevedo',\n",
       " 4: 'Oscar Rosseto',\n",
       " 5: 'Valentin Quintero',\n",
       " 6: 'Marcelo Barrios',\n",
       " 7: 'Jorge Brizuela',\n",
       " 8: 'Cristian Chena',\n",
       " 9: 'Marco Delgado',\n",
       " 10: 'Adrian Lucero',\n",
       " 11: 'Omar Pacheco',\n",
       " 12: 'Marcos Luna',\n",
       " 13: 'Franco Castro',\n",
       " 14: 'Javier Garay',\n",
       " 15: 'Lucas Regalado',\n",
       " 16: 'Alejo Alfaro',\n",
       " 17: 'Thiago Manrique',\n",
       " 18: 'Mateo Quiroga',\n",
       " 19: 'Alan Silvan',\n",
       " 20: 'Gonzalo Valdez',\n",
       " 21: 'Espinoza Duilio',\n",
       " 22: 'Montaña Ariel',\n",
       " 23: 'Pedraza Atilio',\n",
       " 24: 'Tello German',\n",
       " 25: 'Villlegas Pablo',\n",
       " 26: 'Fabricio Brizuela',\n",
       " 27: 'Emir Gimenez',\n",
       " 28: 'Yair Muñoz',\n",
       " 29: 'Mathiel Perizo',\n",
       " 30: 'Etian Aballay',\n",
       " 31: 'Joaquín Grecco',\n",
       " 32: 'Isaías Alfaro',\n",
       " 33: 'Ignacio Pinto',\n",
       " 34: 'Lian Ruiz',\n",
       " 35: 'Ian Acosta',\n",
       " 36: 'Luis Barquiel',\n",
       " 37: 'Catriel Gonzalez',\n",
       " 38: 'Lionel Pastran',\n",
       " 39: 'Tiziano Silva',\n",
       " 40: 'Gian Cabrera',\n",
       " 41: 'Pelaytat Axel',\n",
       " 42: 'Julián Soria',\n",
       " 43: 'Liam Arancibia',\n",
       " 44: 'Juan Casivar',\n",
       " 45: 'Nicolas Castro',\n",
       " 46: 'Dylan de los Ríos',\n",
       " 47: 'Valentino Guiñez',\n",
       " 48: 'Franco Guardia',\n",
       " 49: 'Samuel Lucero',\n",
       " 50: 'Thian Navarro',\n",
       " 51: 'Tobías Quinteros',\n",
       " 52: 'Benjamín Acosta',\n",
       " 53: 'Danilo Alvarez',\n",
       " 54: 'Castro Milton',\n",
       " 55: 'Giovanni Chacon',\n",
       " 56: 'Theo Fernandez',\n",
       " 57: 'Alejandro Gimenez',\n",
       " 58: 'Mateo Gimenez',\n",
       " 59: 'Dilan Gonzalez',\n",
       " 60: 'David Lopez',\n",
       " 61: 'Jeremias Ventrice',\n",
       " 62: 'Nicolas Montaña',\n",
       " 63: 'Francisco Caballero',\n",
       " 64: 'Eduardo Monardez',\n",
       " 65: 'Leonardo Perez',\n",
       " 66: 'Rodolfo Colmenares',\n",
       " 67: 'Esteban Vera',\n",
       " 68: 'Adrian Ortiz'}"
      ]
     },
     "execution_count": 24,
     "metadata": {},
     "output_type": "execute_result"
    }
   ],
   "source": [
    "#Let's create a dictionary where the key is the employee ID and the value is their name.\n",
    "Dic = {}\n",
    "\n",
    "def Diccionario(Empleado):\n",
    "    Dic[Empleado[\"Id_Empleado\"]] = (Empleado[\"Nombre y Apellido\"])\n",
    "    return Dic\n",
    "\n",
    "empleados.apply(Diccionario, axis=1)\n",
    "Dic"
   ]
  },
  {
   "cell_type": "code",
   "execution_count": 25,
   "metadata": {},
   "outputs": [
    {
     "data": {
      "text/html": [
       "<div>\n",
       "<style scoped>\n",
       "    .dataframe tbody tr th:only-of-type {\n",
       "        vertical-align: middle;\n",
       "    }\n",
       "\n",
       "    .dataframe tbody tr th {\n",
       "        vertical-align: top;\n",
       "    }\n",
       "\n",
       "    .dataframe thead th {\n",
       "        text-align: right;\n",
       "    }\n",
       "</style>\n",
       "<table border=\"1\" class=\"dataframe\">\n",
       "  <thead>\n",
       "    <tr style=\"text-align: right;\">\n",
       "      <th></th>\n",
       "      <th>IdCliente</th>\n",
       "      <th>NombreCliente</th>\n",
       "      <th>Fecha</th>\n",
       "      <th>Empleado</th>\n",
       "      <th>Referencia</th>\n",
       "      <th>Descripcion</th>\n",
       "      <th>CodigoFamilia</th>\n",
       "      <th>Familia</th>\n",
       "      <th>Cantidad</th>\n",
       "      <th>Ventas</th>\n",
       "      <th>Localidad</th>\n",
       "      <th>Sede</th>\n",
       "      <th>Area</th>\n",
       "    </tr>\n",
       "  </thead>\n",
       "  <tbody>\n",
       "    <tr>\n",
       "      <th>0</th>\n",
       "      <td>C1070956433</td>\n",
       "      <td>PINTO JOHN</td>\n",
       "      <td>1/9/2016</td>\n",
       "      <td>Tello German</td>\n",
       "      <td>LL-2R-0038</td>\n",
       "      <td>PILOT STREET 110/80-17</td>\n",
       "      <td>101.0</td>\n",
       "      <td>LLANTA</td>\n",
       "      <td>1</td>\n",
       "      <td>27.228146</td>\n",
       "      <td>Puente aranda</td>\n",
       "      <td>Calle 13</td>\n",
       "      <td>35.0</td>\n",
       "    </tr>\n",
       "    <tr>\n",
       "      <th>1</th>\n",
       "      <td>C1032372566</td>\n",
       "      <td>CESAR CRUZ</td>\n",
       "      <td>1/9/2016</td>\n",
       "      <td>Javier Garay</td>\n",
       "      <td>LL-TCA-0133</td>\n",
       "      <td>TOURING 175/70R13</td>\n",
       "      <td>101.0</td>\n",
       "      <td>LLANTA</td>\n",
       "      <td>2</td>\n",
       "      <td>38.119404</td>\n",
       "      <td>Suba</td>\n",
       "      <td>Suba</td>\n",
       "      <td>32.0</td>\n",
       "    </tr>\n",
       "    <tr>\n",
       "      <th>2</th>\n",
       "      <td>C2865810</td>\n",
       "      <td>PINEDA JAIME</td>\n",
       "      <td>1/9/2016</td>\n",
       "      <td>Marcos Luna</td>\n",
       "      <td>LL-TCA-0019</td>\n",
       "      <td>ENERGY XM2 185/65R14</td>\n",
       "      <td>101.0</td>\n",
       "      <td>LLANTA</td>\n",
       "      <td>1</td>\n",
       "      <td>40.659027</td>\n",
       "      <td>Usaquen</td>\n",
       "      <td>Santa ana</td>\n",
       "      <td>33.0</td>\n",
       "    </tr>\n",
       "    <tr>\n",
       "      <th>3</th>\n",
       "      <td>C11210285</td>\n",
       "      <td>VILLALBA RODRIGUEZ FABIO</td>\n",
       "      <td>1/9/2016</td>\n",
       "      <td>Tello German</td>\n",
       "      <td>LL-TCA-0009</td>\n",
       "      <td>ENERGY XM2 165/65R13</td>\n",
       "      <td>101.0</td>\n",
       "      <td>LLANTA</td>\n",
       "      <td>2</td>\n",
       "      <td>55.182530</td>\n",
       "      <td>Puente aranda</td>\n",
       "      <td>Calle 13</td>\n",
       "      <td>35.0</td>\n",
       "    </tr>\n",
       "    <tr>\n",
       "      <th>4</th>\n",
       "      <td>C80755314</td>\n",
       "      <td>MOLINA RONALD</td>\n",
       "      <td>1/9/2016</td>\n",
       "      <td>Javier Garay</td>\n",
       "      <td>LL-TCA-0132</td>\n",
       "      <td>NO UTILIZAR</td>\n",
       "      <td>101.0</td>\n",
       "      <td>LLANTA</td>\n",
       "      <td>4</td>\n",
       "      <td>76.239018</td>\n",
       "      <td>Suba</td>\n",
       "      <td>Suba</td>\n",
       "      <td>32.0</td>\n",
       "    </tr>\n",
       "  </tbody>\n",
       "</table>\n",
       "</div>"
      ],
      "text/plain": [
       "     IdCliente             NombreCliente     Fecha      Empleado   Referencia  \\\n",
       "0  C1070956433                PINTO JOHN  1/9/2016  Tello German   LL-2R-0038   \n",
       "1  C1032372566                CESAR CRUZ  1/9/2016  Javier Garay  LL-TCA-0133   \n",
       "2     C2865810              PINEDA JAIME  1/9/2016   Marcos Luna  LL-TCA-0019   \n",
       "3    C11210285  VILLALBA RODRIGUEZ FABIO  1/9/2016  Tello German  LL-TCA-0009   \n",
       "4    C80755314             MOLINA RONALD  1/9/2016  Javier Garay  LL-TCA-0132   \n",
       "\n",
       "              Descripcion  CodigoFamilia Familia Cantidad     Ventas  \\\n",
       "0  PILOT STREET 110/80-17          101.0  LLANTA        1  27.228146   \n",
       "1       TOURING 175/70R13          101.0  LLANTA        2  38.119404   \n",
       "2    ENERGY XM2 185/65R14          101.0  LLANTA        1  40.659027   \n",
       "3    ENERGY XM2 165/65R13          101.0  LLANTA        2  55.182530   \n",
       "4             NO UTILIZAR          101.0  LLANTA        4  76.239018   \n",
       "\n",
       "       Localidad       Sede  Area  \n",
       "0  Puente aranda   Calle 13  35.0  \n",
       "1           Suba       Suba  32.0  \n",
       "2        Usaquen  Santa ana  33.0  \n",
       "3  Puente aranda   Calle 13  35.0  \n",
       "4           Suba       Suba  32.0  "
      ]
     },
     "execution_count": 25,
     "metadata": {},
     "output_type": "execute_result"
    }
   ],
   "source": [
    "#Now in our Sales dataframe, we make the Employee column contain the name according to the dictionary.\n",
    "ventas['Empleado'] = ventas['Empleado'].map(Dic)\n",
    "ventas.head()"
   ]
  },
  {
   "cell_type": "code",
   "execution_count": 26,
   "metadata": {},
   "outputs": [],
   "source": [
    "ventas[\"Fecha\"] =pd.to_datetime(ventas[\"Fecha\"]) # convert string to datetime"
   ]
  },
  {
   "cell_type": "code",
   "execution_count": 27,
   "metadata": {},
   "outputs": [],
   "source": [
    "ventas.to_csv(\"ventas_updated.csv\")#generate a new .csv file"
   ]
  },
  {
   "attachments": {},
   "cell_type": "markdown",
   "metadata": {},
   "source": [
    "\n",
    "<div style=\"display:flex; flex-direction:row;\">\n",
    "  <div style=\"flex:1;\">\n",
    "  <center>\n",
    "    <img src=\"http://www.idforideas.com/img/logo.png\" alt=\"imagen1\" style=\"background-color:white;border-radius:50%\"; height=\"100\" width=\"100\">\n",
    "        <a href=\"https://www.idforideas.com/\" target=\"_blank\"><p>Specials Thanks </br> IDFORIDEAS </p></a>\n",
    "        </center>\n",
    "  </div>\n",
    "  <div style=\"flex:1;\">\n",
    "  <center>\n",
    " <img src=\"https://maia.run/wp-content/uploads/2023/01/Logotipo-Completo-Horizontal-MAIA-DIAPO-BLANCO-RGB-e1674195347476-768x251.png\" alt=\"imagen1\"  height=\"100\">\n",
    "        <a href=\"https://www.maia.run\" target=\"_blank\"><p>Mastering Artificial Intelligence Administration</p></a>\n",
    "        </center>\n",
    "  </div>\n",
    "    <div style=\"flex:1;\">\n",
    "  <center>\n",
    " <img src=\"https://maia.run/wp-content/uploads/2022/12/Emblema-MAIA-DIAPO-BLANCO-RGB-150x150.png\" alt=\"imagen1\"  height=\"100\" width=\"100\">\n",
    "        <a href=\"https://www.maiacorp.us\" target=\"_blank\"><p>MAIACorp, Wyoming, USA</p></a>\n",
    "        </center>\n",
    "</div>"
   ]
  }
 ],
 "metadata": {
  "kernelspec": {
   "display_name": "Python 3",
   "language": "python",
   "name": "python3"
  },
  "language_info": {
   "codemirror_mode": {
    "name": "ipython",
    "version": 3
   },
   "file_extension": ".py",
   "mimetype": "text/x-python",
   "name": "python",
   "nbconvert_exporter": "python",
   "pygments_lexer": "ipython3",
   "version": "3.10.6 (main, Nov 14 2022, 16:10:14) [GCC 11.3.0]"
  },
  "orig_nbformat": 4,
  "vscode": {
   "interpreter": {
    "hash": "916dbcbb3f70747c44a77c7bcd40155683ae19c65e1c03b4aa3499c5328201f1"
   }
  }
 },
 "nbformat": 4,
 "nbformat_minor": 2
}
